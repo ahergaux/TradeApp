{
 "cells": [
  {
   "cell_type": "code",
   "execution_count": 1,
   "metadata": {},
   "outputs": [
    {
     "name": "stdout",
     "output_type": "stream",
     "text": [
      "1\n"
     ]
    }
   ],
   "source": [
    "import pandas as pd\n",
    "print(pd.Timestamp.now().minute%5)"
   ]
  },
  {
   "cell_type": "code",
   "execution_count": 4,
   "metadata": {},
   "outputs": [
    {
     "name": "stdout",
     "output_type": "stream",
     "text": [
      "4\n"
     ]
    }
   ],
   "source": [
    "def strategy_map():\n",
    "    return {\n",
    "        'MomentumStrategy': 1,\n",
    "        'MeanReversionStrategy': 2,\n",
    "        'SimpleMovingAverageStrategy': 3,\n",
    "        'QQQ': 4\n",
    "    }\n",
    "print(strategy_map()['QQQ'])"
   ]
  },
  {
   "cell_type": "code",
   "execution_count": 1,
   "metadata": {},
   "outputs": [
    {
     "name": "stdout",
     "output_type": "stream",
     "text": [
      "OK\n"
     ]
    }
   ],
   "source": [
    "class A:\n",
    "    def test(self):\n",
    "        print('OK')\n",
    "\n",
    "def getA():\n",
    "    return{\n",
    "        'A' : A\n",
    "    }\n",
    "\n",
    "getA()['A']().test()"
   ]
  },
  {
   "cell_type": "code",
   "execution_count": 29,
   "metadata": {},
   "outputs": [
    {
     "name": "stdout",
     "output_type": "stream",
     "text": [
      "1\n",
      "\n",
      "['1']\n"
     ]
    }
   ],
   "source": [
    "import csv\n",
    "nom_colonne='truc'\n",
    "column_values=[]\n",
    "with open('test.csv', newline='', encoding='utf-8') as csvfile:\n",
    "            reader = csv.DictReader(csvfile, delimiter=',')\n",
    "            \n",
    "            # Verify if the column name exists in the CSV file\n",
    "            \n",
    "            for row in reader:\n",
    "                print(row[nom_colonne])\n",
    "                if row[nom_colonne] is not None and row[nom_colonne] != '':\n",
    "                    column_values.append(row[nom_colonne])\n",
    "\n",
    "print(column_values)"
   ]
  }
 ],
 "metadata": {
  "kernelspec": {
   "display_name": "alpaca-env",
   "language": "python",
   "name": "python3"
  },
  "language_info": {
   "codemirror_mode": {
    "name": "ipython",
    "version": 3
   },
   "file_extension": ".py",
   "mimetype": "text/x-python",
   "name": "python",
   "nbconvert_exporter": "python",
   "pygments_lexer": "ipython3",
   "version": "3.12.3"
  }
 },
 "nbformat": 4,
 "nbformat_minor": 2
}
